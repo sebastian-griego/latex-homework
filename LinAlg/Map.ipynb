{
 "cells": [
  {
   "cell_type": "code",
   "execution_count": null,
   "metadata": {},
   "outputs": [],
   "source": [
    "from shapely.geometry import Polygon, LineString\n",
    "\n",
    "def calculate_area(coordinates):\n",
    "    # Create a LineString from the coordinates\n",
    "    path = LineString(coordinates)\n",
    "    \n",
    "    # Check if the path is closed\n",
    "    if not path.is_closed:\n",
    "        raise ValueError(\"The path is not closed.\")\n",
    "    \n",
    "    # Create a Polygon from the closed path\n",
    "    polygon = Polygon(path)\n",
    "    \n",
    "    # Calculate the area of the polygon\n",
    "    area = polygon.area\n",
    "    \n",
    "    return area\n",
    "\n",
    "# Example usage\n",
    "coordinates = [(0, 0), (0, 1), (1, 1), (1, 0), (0, 0)]  # Closed path coordinates\n",
    "area = calculate_area(coordinates)\n",
    "print(f\"The area enclosed by the path is: {area} square units.\")"
   ]
  }
 ],
 "metadata": {
  "language_info": {
   "name": "python"
  }
 },
 "nbformat": 4,
 "nbformat_minor": 2
}
